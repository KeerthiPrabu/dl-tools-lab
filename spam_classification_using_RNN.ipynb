{
  "nbformat": 4,
  "nbformat_minor": 0,
  "metadata": {
    "colab": {
      "name": "spam_classification_using_RNN.ipynb",
      "provenance": [],
      "collapsed_sections": [],
      "authorship_tag": "ABX9TyP/HU1WF8gRpVgECaL7fjNe",
      "include_colab_link": true
    },
    "kernelspec": {
      "name": "python3",
      "display_name": "Python 3"
    },
    "language_info": {
      "name": "python"
    }
  },
  "cells": [
    {
      "cell_type": "markdown",
      "metadata": {
        "id": "view-in-github",
        "colab_type": "text"
      },
      "source": [
        "<a href=\"https://colab.research.google.com/github/KeerthiPrabu/dl-tools-lab/blob/main/spam_classification_using_RNN.ipynb\" target=\"_parent\"><img src=\"https://colab.research.google.com/assets/colab-badge.svg\" alt=\"Open In Colab\"/></a>"
      ]
    },
    {
      "cell_type": "code",
      "execution_count": 1,
      "metadata": {
        "colab": {
          "base_uri": "https://localhost:8080/"
        },
        "id": "BB5GzogPyiiP",
        "outputId": "19e9bfec-4caf-40a3-aed6-56f7e7dbd479"
      },
      "outputs": [
        {
          "output_type": "stream",
          "name": "stdout",
          "text": [
            "--2022-06-12 12:02:14--  http://archive.ics.uci.edu/ml/machine-learning-databases/00228/smsspamcollection.zip\n",
            "Resolving archive.ics.uci.edu (archive.ics.uci.edu)... 128.195.10.252\n",
            "Connecting to archive.ics.uci.edu (archive.ics.uci.edu)|128.195.10.252|:80... connected.\n",
            "HTTP request sent, awaiting response... 200 OK\n",
            "Length: 203415 (199K) [application/x-httpd-php]\n",
            "Saving to: ‘smsspamcollection.zip’\n",
            "\n",
            "smsspamcollection.z 100%[===================>] 198.65K   968KB/s    in 0.2s    \n",
            "\n",
            "2022-06-12 12:02:15 (968 KB/s) - ‘smsspamcollection.zip’ saved [203415/203415]\n",
            "\n"
          ]
        }
      ],
      "source": [
        "!wget http://archive.ics.uci.edu/ml/machine-learning-databases/00228/smsspamcollection.zip"
      ]
    },
    {
      "cell_type": "code",
      "source": [
        "!unzip smsspamcollection.zip"
      ],
      "metadata": {
        "colab": {
          "base_uri": "https://localhost:8080/"
        },
        "id": "K5Rf0DBIyx_M",
        "outputId": "0c13c3f4-046f-40ba-d2dc-42f9b254e190"
      },
      "execution_count": 2,
      "outputs": [
        {
          "output_type": "stream",
          "name": "stdout",
          "text": [
            "Archive:  smsspamcollection.zip\n",
            "  inflating: SMSSpamCollection       \n",
            "  inflating: readme                  \n"
          ]
        }
      ]
    },
    {
      "cell_type": "code",
      "source": [
        "import pandas as pd\n",
        "import tensorflow as tf\n",
        "import numpy as np"
      ],
      "metadata": {
        "id": "U_uaHqBmy3xE"
      },
      "execution_count": 3,
      "outputs": []
    },
    {
      "cell_type": "code",
      "source": [
        "spam_df=pd.read_csv('/content/SMSSpamCollection',sep='\\t',header=None)\n",
        "spam_df.head()"
      ],
      "metadata": {
        "colab": {
          "base_uri": "https://localhost:8080/",
          "height": 206
        },
        "id": "jciBJtz6zAz7",
        "outputId": "1f47a43d-3dc7-4124-ed86-92a1cd307dcc"
      },
      "execution_count": 4,
      "outputs": [
        {
          "output_type": "execute_result",
          "data": {
            "text/plain": [
              "      0                                                  1\n",
              "0   ham  Go until jurong point, crazy.. Available only ...\n",
              "1   ham                      Ok lar... Joking wif u oni...\n",
              "2  spam  Free entry in 2 a wkly comp to win FA Cup fina...\n",
              "3   ham  U dun say so early hor... U c already then say...\n",
              "4   ham  Nah I don't think he goes to usf, he lives aro..."
            ],
            "text/html": [
              "\n",
              "  <div id=\"df-6de3e41b-8917-45f8-a023-10d55c2a47c7\">\n",
              "    <div class=\"colab-df-container\">\n",
              "      <div>\n",
              "<style scoped>\n",
              "    .dataframe tbody tr th:only-of-type {\n",
              "        vertical-align: middle;\n",
              "    }\n",
              "\n",
              "    .dataframe tbody tr th {\n",
              "        vertical-align: top;\n",
              "    }\n",
              "\n",
              "    .dataframe thead th {\n",
              "        text-align: right;\n",
              "    }\n",
              "</style>\n",
              "<table border=\"1\" class=\"dataframe\">\n",
              "  <thead>\n",
              "    <tr style=\"text-align: right;\">\n",
              "      <th></th>\n",
              "      <th>0</th>\n",
              "      <th>1</th>\n",
              "    </tr>\n",
              "  </thead>\n",
              "  <tbody>\n",
              "    <tr>\n",
              "      <th>0</th>\n",
              "      <td>ham</td>\n",
              "      <td>Go until jurong point, crazy.. Available only ...</td>\n",
              "    </tr>\n",
              "    <tr>\n",
              "      <th>1</th>\n",
              "      <td>ham</td>\n",
              "      <td>Ok lar... Joking wif u oni...</td>\n",
              "    </tr>\n",
              "    <tr>\n",
              "      <th>2</th>\n",
              "      <td>spam</td>\n",
              "      <td>Free entry in 2 a wkly comp to win FA Cup fina...</td>\n",
              "    </tr>\n",
              "    <tr>\n",
              "      <th>3</th>\n",
              "      <td>ham</td>\n",
              "      <td>U dun say so early hor... U c already then say...</td>\n",
              "    </tr>\n",
              "    <tr>\n",
              "      <th>4</th>\n",
              "      <td>ham</td>\n",
              "      <td>Nah I don't think he goes to usf, he lives aro...</td>\n",
              "    </tr>\n",
              "  </tbody>\n",
              "</table>\n",
              "</div>\n",
              "      <button class=\"colab-df-convert\" onclick=\"convertToInteractive('df-6de3e41b-8917-45f8-a023-10d55c2a47c7')\"\n",
              "              title=\"Convert this dataframe to an interactive table.\"\n",
              "              style=\"display:none;\">\n",
              "        \n",
              "  <svg xmlns=\"http://www.w3.org/2000/svg\" height=\"24px\"viewBox=\"0 0 24 24\"\n",
              "       width=\"24px\">\n",
              "    <path d=\"M0 0h24v24H0V0z\" fill=\"none\"/>\n",
              "    <path d=\"M18.56 5.44l.94 2.06.94-2.06 2.06-.94-2.06-.94-.94-2.06-.94 2.06-2.06.94zm-11 1L8.5 8.5l.94-2.06 2.06-.94-2.06-.94L8.5 2.5l-.94 2.06-2.06.94zm10 10l.94 2.06.94-2.06 2.06-.94-2.06-.94-.94-2.06-.94 2.06-2.06.94z\"/><path d=\"M17.41 7.96l-1.37-1.37c-.4-.4-.92-.59-1.43-.59-.52 0-1.04.2-1.43.59L10.3 9.45l-7.72 7.72c-.78.78-.78 2.05 0 2.83L4 21.41c.39.39.9.59 1.41.59.51 0 1.02-.2 1.41-.59l7.78-7.78 2.81-2.81c.8-.78.8-2.07 0-2.86zM5.41 20L4 18.59l7.72-7.72 1.47 1.35L5.41 20z\"/>\n",
              "  </svg>\n",
              "      </button>\n",
              "      \n",
              "  <style>\n",
              "    .colab-df-container {\n",
              "      display:flex;\n",
              "      flex-wrap:wrap;\n",
              "      gap: 12px;\n",
              "    }\n",
              "\n",
              "    .colab-df-convert {\n",
              "      background-color: #E8F0FE;\n",
              "      border: none;\n",
              "      border-radius: 50%;\n",
              "      cursor: pointer;\n",
              "      display: none;\n",
              "      fill: #1967D2;\n",
              "      height: 32px;\n",
              "      padding: 0 0 0 0;\n",
              "      width: 32px;\n",
              "    }\n",
              "\n",
              "    .colab-df-convert:hover {\n",
              "      background-color: #E2EBFA;\n",
              "      box-shadow: 0px 1px 2px rgba(60, 64, 67, 0.3), 0px 1px 3px 1px rgba(60, 64, 67, 0.15);\n",
              "      fill: #174EA6;\n",
              "    }\n",
              "\n",
              "    [theme=dark] .colab-df-convert {\n",
              "      background-color: #3B4455;\n",
              "      fill: #D2E3FC;\n",
              "    }\n",
              "\n",
              "    [theme=dark] .colab-df-convert:hover {\n",
              "      background-color: #434B5C;\n",
              "      box-shadow: 0px 1px 3px 1px rgba(0, 0, 0, 0.15);\n",
              "      filter: drop-shadow(0px 1px 2px rgba(0, 0, 0, 0.3));\n",
              "      fill: #FFFFFF;\n",
              "    }\n",
              "  </style>\n",
              "\n",
              "      <script>\n",
              "        const buttonEl =\n",
              "          document.querySelector('#df-6de3e41b-8917-45f8-a023-10d55c2a47c7 button.colab-df-convert');\n",
              "        buttonEl.style.display =\n",
              "          google.colab.kernel.accessAllowed ? 'block' : 'none';\n",
              "\n",
              "        async function convertToInteractive(key) {\n",
              "          const element = document.querySelector('#df-6de3e41b-8917-45f8-a023-10d55c2a47c7');\n",
              "          const dataTable =\n",
              "            await google.colab.kernel.invokeFunction('convertToInteractive',\n",
              "                                                     [key], {});\n",
              "          if (!dataTable) return;\n",
              "\n",
              "          const docLinkHtml = 'Like what you see? Visit the ' +\n",
              "            '<a target=\"_blank\" href=https://colab.research.google.com/notebooks/data_table.ipynb>data table notebook</a>'\n",
              "            + ' to learn more about interactive tables.';\n",
              "          element.innerHTML = '';\n",
              "          dataTable['output_type'] = 'display_data';\n",
              "          await google.colab.output.renderOutput(dataTable, element);\n",
              "          const docLink = document.createElement('div');\n",
              "          docLink.innerHTML = docLinkHtml;\n",
              "          element.appendChild(docLink);\n",
              "        }\n",
              "      </script>\n",
              "    </div>\n",
              "  </div>\n",
              "  "
            ]
          },
          "metadata": {},
          "execution_count": 4
        }
      ]
    },
    {
      "cell_type": "code",
      "source": [
        "spam_df[0].unique()"
      ],
      "metadata": {
        "colab": {
          "base_uri": "https://localhost:8080/"
        },
        "id": "h5jgHDnIzTrB",
        "outputId": "e272a394-7fd1-4629-f545-9a1a5f045864"
      },
      "execution_count": 8,
      "outputs": [
        {
          "output_type": "execute_result",
          "data": {
            "text/plain": [
              "array(['ham', 'spam'], dtype=object)"
            ]
          },
          "metadata": {},
          "execution_count": 8
        }
      ]
    },
    {
      "cell_type": "code",
      "source": [
        "spam_df['label']=spam_df[0].map({'ham':0,'spam':1})\n",
        "spam_df.head()"
      ],
      "metadata": {
        "colab": {
          "base_uri": "https://localhost:8080/",
          "height": 206
        },
        "id": "yzEHJLHa1wV1",
        "outputId": "b8452363-f479-4f89-db79-9571f257a7ad"
      },
      "execution_count": 11,
      "outputs": [
        {
          "output_type": "execute_result",
          "data": {
            "text/plain": [
              "      0                                                  1  label\n",
              "0   ham  Go until jurong point, crazy.. Available only ...      0\n",
              "1   ham                      Ok lar... Joking wif u oni...      0\n",
              "2  spam  Free entry in 2 a wkly comp to win FA Cup fina...      1\n",
              "3   ham  U dun say so early hor... U c already then say...      0\n",
              "4   ham  Nah I don't think he goes to usf, he lives aro...      0"
            ],
            "text/html": [
              "\n",
              "  <div id=\"df-b4cf0eb1-fe19-4126-b594-5806e2652e79\">\n",
              "    <div class=\"colab-df-container\">\n",
              "      <div>\n",
              "<style scoped>\n",
              "    .dataframe tbody tr th:only-of-type {\n",
              "        vertical-align: middle;\n",
              "    }\n",
              "\n",
              "    .dataframe tbody tr th {\n",
              "        vertical-align: top;\n",
              "    }\n",
              "\n",
              "    .dataframe thead th {\n",
              "        text-align: right;\n",
              "    }\n",
              "</style>\n",
              "<table border=\"1\" class=\"dataframe\">\n",
              "  <thead>\n",
              "    <tr style=\"text-align: right;\">\n",
              "      <th></th>\n",
              "      <th>0</th>\n",
              "      <th>1</th>\n",
              "      <th>label</th>\n",
              "    </tr>\n",
              "  </thead>\n",
              "  <tbody>\n",
              "    <tr>\n",
              "      <th>0</th>\n",
              "      <td>ham</td>\n",
              "      <td>Go until jurong point, crazy.. Available only ...</td>\n",
              "      <td>0</td>\n",
              "    </tr>\n",
              "    <tr>\n",
              "      <th>1</th>\n",
              "      <td>ham</td>\n",
              "      <td>Ok lar... Joking wif u oni...</td>\n",
              "      <td>0</td>\n",
              "    </tr>\n",
              "    <tr>\n",
              "      <th>2</th>\n",
              "      <td>spam</td>\n",
              "      <td>Free entry in 2 a wkly comp to win FA Cup fina...</td>\n",
              "      <td>1</td>\n",
              "    </tr>\n",
              "    <tr>\n",
              "      <th>3</th>\n",
              "      <td>ham</td>\n",
              "      <td>U dun say so early hor... U c already then say...</td>\n",
              "      <td>0</td>\n",
              "    </tr>\n",
              "    <tr>\n",
              "      <th>4</th>\n",
              "      <td>ham</td>\n",
              "      <td>Nah I don't think he goes to usf, he lives aro...</td>\n",
              "      <td>0</td>\n",
              "    </tr>\n",
              "  </tbody>\n",
              "</table>\n",
              "</div>\n",
              "      <button class=\"colab-df-convert\" onclick=\"convertToInteractive('df-b4cf0eb1-fe19-4126-b594-5806e2652e79')\"\n",
              "              title=\"Convert this dataframe to an interactive table.\"\n",
              "              style=\"display:none;\">\n",
              "        \n",
              "  <svg xmlns=\"http://www.w3.org/2000/svg\" height=\"24px\"viewBox=\"0 0 24 24\"\n",
              "       width=\"24px\">\n",
              "    <path d=\"M0 0h24v24H0V0z\" fill=\"none\"/>\n",
              "    <path d=\"M18.56 5.44l.94 2.06.94-2.06 2.06-.94-2.06-.94-.94-2.06-.94 2.06-2.06.94zm-11 1L8.5 8.5l.94-2.06 2.06-.94-2.06-.94L8.5 2.5l-.94 2.06-2.06.94zm10 10l.94 2.06.94-2.06 2.06-.94-2.06-.94-.94-2.06-.94 2.06-2.06.94z\"/><path d=\"M17.41 7.96l-1.37-1.37c-.4-.4-.92-.59-1.43-.59-.52 0-1.04.2-1.43.59L10.3 9.45l-7.72 7.72c-.78.78-.78 2.05 0 2.83L4 21.41c.39.39.9.59 1.41.59.51 0 1.02-.2 1.41-.59l7.78-7.78 2.81-2.81c.8-.78.8-2.07 0-2.86zM5.41 20L4 18.59l7.72-7.72 1.47 1.35L5.41 20z\"/>\n",
              "  </svg>\n",
              "      </button>\n",
              "      \n",
              "  <style>\n",
              "    .colab-df-container {\n",
              "      display:flex;\n",
              "      flex-wrap:wrap;\n",
              "      gap: 12px;\n",
              "    }\n",
              "\n",
              "    .colab-df-convert {\n",
              "      background-color: #E8F0FE;\n",
              "      border: none;\n",
              "      border-radius: 50%;\n",
              "      cursor: pointer;\n",
              "      display: none;\n",
              "      fill: #1967D2;\n",
              "      height: 32px;\n",
              "      padding: 0 0 0 0;\n",
              "      width: 32px;\n",
              "    }\n",
              "\n",
              "    .colab-df-convert:hover {\n",
              "      background-color: #E2EBFA;\n",
              "      box-shadow: 0px 1px 2px rgba(60, 64, 67, 0.3), 0px 1px 3px 1px rgba(60, 64, 67, 0.15);\n",
              "      fill: #174EA6;\n",
              "    }\n",
              "\n",
              "    [theme=dark] .colab-df-convert {\n",
              "      background-color: #3B4455;\n",
              "      fill: #D2E3FC;\n",
              "    }\n",
              "\n",
              "    [theme=dark] .colab-df-convert:hover {\n",
              "      background-color: #434B5C;\n",
              "      box-shadow: 0px 1px 3px 1px rgba(0, 0, 0, 0.15);\n",
              "      filter: drop-shadow(0px 1px 2px rgba(0, 0, 0, 0.3));\n",
              "      fill: #FFFFFF;\n",
              "    }\n",
              "  </style>\n",
              "\n",
              "      <script>\n",
              "        const buttonEl =\n",
              "          document.querySelector('#df-b4cf0eb1-fe19-4126-b594-5806e2652e79 button.colab-df-convert');\n",
              "        buttonEl.style.display =\n",
              "          google.colab.kernel.accessAllowed ? 'block' : 'none';\n",
              "\n",
              "        async function convertToInteractive(key) {\n",
              "          const element = document.querySelector('#df-b4cf0eb1-fe19-4126-b594-5806e2652e79');\n",
              "          const dataTable =\n",
              "            await google.colab.kernel.invokeFunction('convertToInteractive',\n",
              "                                                     [key], {});\n",
              "          if (!dataTable) return;\n",
              "\n",
              "          const docLinkHtml = 'Like what you see? Visit the ' +\n",
              "            '<a target=\"_blank\" href=https://colab.research.google.com/notebooks/data_table.ipynb>data table notebook</a>'\n",
              "            + ' to learn more about interactive tables.';\n",
              "          element.innerHTML = '';\n",
              "          dataTable['output_type'] = 'display_data';\n",
              "          await google.colab.output.renderOutput(dataTable, element);\n",
              "          const docLink = document.createElement('div');\n",
              "          docLink.innerHTML = docLinkHtml;\n",
              "          element.appendChild(docLink);\n",
              "        }\n",
              "      </script>\n",
              "    </div>\n",
              "  </div>\n",
              "  "
            ]
          },
          "metadata": {},
          "execution_count": 11
        }
      ]
    },
    {
      "cell_type": "code",
      "source": [
        "train, val, test = np.split(spam_df.sample(frac=1), [int(0.8*len(spam_df)), int(0.9*len(spam_df))])"
      ],
      "metadata": {
        "id": "vsc8sM_Lzd1K"
      },
      "execution_count": 12,
      "outputs": []
    },
    {
      "cell_type": "code",
      "source": [
        "def tensor_dataset(data_):\n",
        "  X=data_[1]\n",
        "  Y=data_['label']\n",
        "  ds=tf.data.Dataset.from_tensor_slices((X,Y)).batch(64)\n",
        "  return ds"
      ],
      "metadata": {
        "id": "9kOdM4QB2Mfy"
      },
      "execution_count": 13,
      "outputs": []
    },
    {
      "cell_type": "code",
      "source": [
        "train = tensor_dataset(train)\n",
        "val = tensor_dataset(val)\n",
        "test = tensor_dataset(test)"
      ],
      "metadata": {
        "id": "_rEARmz62SPm"
      },
      "execution_count": 14,
      "outputs": []
    },
    {
      "cell_type": "code",
      "source": [
        "train"
      ],
      "metadata": {
        "colab": {
          "base_uri": "https://localhost:8080/"
        },
        "id": "DZmMqdjX2i3-",
        "outputId": "99169171-996f-4bda-ef0f-dd246c1a7cfc"
      },
      "execution_count": 15,
      "outputs": [
        {
          "output_type": "execute_result",
          "data": {
            "text/plain": [
              "<BatchDataset element_spec=(TensorSpec(shape=(None,), dtype=tf.string, name=None), TensorSpec(shape=(None,), dtype=tf.int64, name=None))>"
            ]
          },
          "metadata": {},
          "execution_count": 15
        }
      ]
    },
    {
      "cell_type": "code",
      "source": [
        "import re\n",
        "import string"
      ],
      "metadata": {
        "id": "YwdA2EfM2mh_"
      },
      "execution_count": 16,
      "outputs": []
    },
    {
      "cell_type": "code",
      "source": [
        "def custom_standardization(input_data):\n",
        "    lowercase = tf.strings.lower(input_data)\n",
        "    stripped_html = tf.strings.regex_replace(lowercase, '<br />', ' ')\n",
        "    return tf.strings.regex_replace(\n",
        "        stripped_html,\n",
        "        f'[{re.escape(string.punctuation)}]',\n",
        "        ''\n",
        "    )"
      ],
      "metadata": {
        "id": "RoJd6L0D2-gJ"
      },
      "execution_count": 17,
      "outputs": []
    },
    {
      "cell_type": "code",
      "source": [
        "max_features = 10000\n",
        "sequence_length = 250\n",
        "\n",
        "vectorize_layer = tf.keras.layers.TextVectorization(\n",
        "    standardize=custom_standardization,\n",
        "    max_tokens=max_features,\n",
        "    output_mode='int',\n",
        "    output_sequence_length=sequence_length)"
      ],
      "metadata": {
        "id": "IifgL8KQ3AJD"
      },
      "execution_count": 18,
      "outputs": []
    },
    {
      "cell_type": "code",
      "source": [
        "vectorize_layer.adapt(train.map(lambda x, y: x))"
      ],
      "metadata": {
        "id": "i4ydjJmw3YUU"
      },
      "execution_count": 20,
      "outputs": []
    },
    {
      "cell_type": "code",
      "source": [
        "model = tf.keras.Sequential([\n",
        "    vectorize_layer,\n",
        "    tf.keras.layers.Embedding(\n",
        "        input_dim=len(vectorize_layer.get_vocabulary()),\n",
        "        output_dim=32,\n",
        "        mask_zero=True),\n",
        "    tf.keras.layers.Bidirectional(tf.keras.layers.LSTM(32,return_sequences=True)),\n",
        "    tf.keras.layers.Bidirectional(tf.keras.layers.LSTM(16)),\n",
        "    tf.keras.layers.Dense(32, activation='relu'),\n",
        "    tf.keras.layers.Dense(1)\n",
        "])"
      ],
      "metadata": {
        "id": "7bWoB4pe3ehO"
      },
      "execution_count": 21,
      "outputs": []
    },
    {
      "cell_type": "code",
      "source": [
        "model.compile(loss=tf.keras.losses.BinaryCrossentropy(from_logits=True),\n",
        "              optimizer=tf.keras.optimizers.Adam(1e-4),\n",
        "              metrics=['accuracy'])"
      ],
      "metadata": {
        "id": "KQgwLEar3mfY"
      },
      "execution_count": 22,
      "outputs": []
    },
    {
      "cell_type": "code",
      "source": [
        "history = model.fit(train, epochs=30, validation_data=val)"
      ],
      "metadata": {
        "colab": {
          "base_uri": "https://localhost:8080/"
        },
        "id": "Fs_WwADC30eI",
        "outputId": "704dca63-85d9-4fce-e33e-1589bfb9081a"
      },
      "execution_count": 23,
      "outputs": [
        {
          "output_type": "stream",
          "name": "stdout",
          "text": [
            "Epoch 1/30\n",
            "70/70 [==============================] - 69s 725ms/step - loss: 0.6653 - accuracy: 0.8656 - val_loss: 0.6279 - val_accuracy: 0.8510\n",
            "Epoch 2/30\n",
            "70/70 [==============================] - 43s 619ms/step - loss: 0.5484 - accuracy: 0.8656 - val_loss: 0.4896 - val_accuracy: 0.8510\n",
            "Epoch 3/30\n",
            "70/70 [==============================] - 43s 621ms/step - loss: 0.4150 - accuracy: 0.8656 - val_loss: 0.3716 - val_accuracy: 0.8510\n",
            "Epoch 4/30\n",
            "70/70 [==============================] - 44s 622ms/step - loss: 0.2841 - accuracy: 0.8656 - val_loss: 0.2356 - val_accuracy: 0.8510\n",
            "Epoch 5/30\n",
            "70/70 [==============================] - 47s 666ms/step - loss: 0.1786 - accuracy: 0.8748 - val_loss: 0.1480 - val_accuracy: 0.9120\n",
            "Epoch 6/30\n",
            "70/70 [==============================] - 44s 631ms/step - loss: 0.1134 - accuracy: 0.9722 - val_loss: 0.0919 - val_accuracy: 0.9820\n",
            "Epoch 7/30\n",
            "70/70 [==============================] - 44s 633ms/step - loss: 0.0727 - accuracy: 0.9897 - val_loss: 0.0614 - val_accuracy: 0.9874\n",
            "Epoch 8/30\n",
            "70/70 [==============================] - 44s 622ms/step - loss: 0.0495 - accuracy: 0.9937 - val_loss: 0.0468 - val_accuracy: 0.9910\n",
            "Epoch 9/30\n",
            "70/70 [==============================] - 43s 620ms/step - loss: 0.0366 - accuracy: 0.9951 - val_loss: 0.0404 - val_accuracy: 0.9928\n",
            "Epoch 10/30\n",
            "70/70 [==============================] - 45s 644ms/step - loss: 0.0277 - accuracy: 0.9969 - val_loss: 0.0386 - val_accuracy: 0.9928\n",
            "Epoch 11/30\n",
            "70/70 [==============================] - 44s 628ms/step - loss: 0.0212 - accuracy: 0.9978 - val_loss: 0.0407 - val_accuracy: 0.9892\n",
            "Epoch 12/30\n",
            "70/70 [==============================] - 44s 623ms/step - loss: 0.0168 - accuracy: 0.9982 - val_loss: 0.0533 - val_accuracy: 0.9820\n",
            "Epoch 13/30\n",
            "70/70 [==============================] - 44s 633ms/step - loss: 0.0134 - accuracy: 0.9989 - val_loss: 0.0396 - val_accuracy: 0.9892\n",
            "Epoch 14/30\n",
            "70/70 [==============================] - 43s 620ms/step - loss: 0.0112 - accuracy: 0.9993 - val_loss: 0.0408 - val_accuracy: 0.9892\n",
            "Epoch 15/30\n",
            "70/70 [==============================] - 43s 620ms/step - loss: 0.0095 - accuracy: 0.9993 - val_loss: 0.0431 - val_accuracy: 0.9874\n",
            "Epoch 16/30\n",
            "70/70 [==============================] - 44s 633ms/step - loss: 0.0083 - accuracy: 0.9996 - val_loss: 0.0466 - val_accuracy: 0.9856\n",
            "Epoch 17/30\n",
            "70/70 [==============================] - 43s 618ms/step - loss: 0.0074 - accuracy: 0.9996 - val_loss: 0.0485 - val_accuracy: 0.9856\n",
            "Epoch 18/30\n",
            "70/70 [==============================] - 43s 617ms/step - loss: 0.0060 - accuracy: 0.9998 - val_loss: 0.0506 - val_accuracy: 0.9856\n",
            "Epoch 19/30\n",
            "70/70 [==============================] - 44s 630ms/step - loss: 0.0052 - accuracy: 0.9998 - val_loss: 0.0528 - val_accuracy: 0.9856\n",
            "Epoch 20/30\n",
            "70/70 [==============================] - 44s 624ms/step - loss: 0.0047 - accuracy: 0.9998 - val_loss: 0.0549 - val_accuracy: 0.9856\n",
            "Epoch 21/30\n",
            "70/70 [==============================] - 44s 633ms/step - loss: 0.0043 - accuracy: 0.9998 - val_loss: 0.0564 - val_accuracy: 0.9856\n",
            "Epoch 22/30\n",
            "70/70 [==============================] - 45s 636ms/step - loss: 0.0039 - accuracy: 0.9998 - val_loss: 0.0583 - val_accuracy: 0.9856\n",
            "Epoch 23/30\n",
            "70/70 [==============================] - 43s 621ms/step - loss: 0.0036 - accuracy: 0.9998 - val_loss: 0.0599 - val_accuracy: 0.9856\n",
            "Epoch 24/30\n",
            "70/70 [==============================] - 43s 615ms/step - loss: 0.0034 - accuracy: 1.0000 - val_loss: 0.0616 - val_accuracy: 0.9856\n",
            "Epoch 25/30\n",
            "70/70 [==============================] - 44s 630ms/step - loss: 0.0031 - accuracy: 1.0000 - val_loss: 0.0631 - val_accuracy: 0.9856\n",
            "Epoch 26/30\n",
            "70/70 [==============================] - 43s 614ms/step - loss: 0.0029 - accuracy: 1.0000 - val_loss: 0.0647 - val_accuracy: 0.9856\n",
            "Epoch 27/30\n",
            "70/70 [==============================] - 43s 610ms/step - loss: 0.0027 - accuracy: 1.0000 - val_loss: 0.0661 - val_accuracy: 0.9856\n",
            "Epoch 28/30\n",
            "70/70 [==============================] - 46s 659ms/step - loss: 0.0025 - accuracy: 1.0000 - val_loss: 0.0676 - val_accuracy: 0.9856\n",
            "Epoch 29/30\n",
            "70/70 [==============================] - 44s 623ms/step - loss: 0.0024 - accuracy: 1.0000 - val_loss: 0.0690 - val_accuracy: 0.9856\n",
            "Epoch 30/30\n",
            "70/70 [==============================] - 45s 643ms/step - loss: 0.0022 - accuracy: 1.0000 - val_loss: 0.0706 - val_accuracy: 0.9874\n"
          ]
        }
      ]
    },
    {
      "cell_type": "code",
      "source": [
        "import matplotlib.pyplot as plt\n",
        "history = history.history\n",
        "plt.figure(figsize=(15,5))\n",
        "plt.subplot(121)\n",
        "plt.title(\"Accuracy\")\n",
        "plt.plot(history[\"accuracy\"],label=\"train acc\")\n",
        "plt.plot(history[\"val_accuracy\"],label=\"val acc\")\n",
        "plt.legend()\n",
        "\n",
        "plt.subplot(122)\n",
        "plt.title(\"Loss\")\n",
        "plt.plot(history[\"loss\"],label=\"train loss\")\n",
        "plt.plot(history[\"val_loss\"],label=\"val loss\")\n",
        "plt.legend()\n"
      ],
      "metadata": {
        "colab": {
          "base_uri": "https://localhost:8080/",
          "height": 353
        },
        "id": "t6BUa1mJ-73t",
        "outputId": "584f4b39-c656-45cc-bad6-34ab16c70f7e"
      },
      "execution_count": 24,
      "outputs": [
        {
          "output_type": "execute_result",
          "data": {
            "text/plain": [
              "<matplotlib.legend.Legend at 0x7fcfd2088e50>"
            ]
          },
          "metadata": {},
          "execution_count": 24
        },
        {
          "output_type": "display_data",
          "data": {
            "text/plain": [
              "<Figure size 1080x360 with 2 Axes>"
            ],
            "image/png": "[encoded data removed]"
          },
          "metadata": {
            "needs_background": "light"
          }
        }
      ]
    },
    {
      "cell_type": "code",
      "source": [
        "loss ,accuracy = model.evaluate(test)\n",
        "print(\"test loss :\",loss)\n",
        "print(\"test accuracy :\",accuracy)"
      ],
      "metadata": {
        "colab": {
          "base_uri": "https://localhost:8080/"
        },
        "id": "BYzICyWt_c4r",
        "outputId": "a23222ca-d654-46c9-af69-06f95c33c2f5"
      },
      "execution_count": 25,
      "outputs": [
        {
          "output_type": "stream",
          "name": "stdout",
          "text": [
            "9/9 [==============================] - 1s 128ms/step - loss: 0.0864 - accuracy: 0.9857\n",
            "test loss : 0.0864335373044014\n",
            "test accuracy : 0.9856630563735962\n"
          ]
        }
      ]
    }
  ]
}