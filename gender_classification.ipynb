{
  "cells": [
    {
      "cell_type": "markdown",
      "metadata": {
        "id": "view-in-github",
        "colab_type": "text"
      },
      "source": [
        "<a href=\"https://colab.research.google.com/github/KeerthiPrabu/dl-tools-lab/blob/main/gender_classification.ipynb\" target=\"_parent\"><img src=\"https://colab.research.google.com/assets/colab-badge.svg\" alt=\"Open In Colab\"/></a>"
      ]
    },
    {
      "cell_type": "code",
      "execution_count": null,
      "metadata": {
        "id": "STVmFXLDqnJ8"
      },
      "outputs": [],
      "source": [
        "import tensorflow as tf\n",
        "import os"
      ]
    },
    {
      "cell_type": "code",
      "execution_count": null,
      "metadata": {
        "id": "WdNocXrArLY1",
        "colab": {
          "base_uri": "https://localhost:8080/"
        },
        "outputId": "925093c5-5d58-47e1-c6b8-dbc8dd33ecb8"
      },
      "outputs": [
        {
          "output_type": "stream",
          "name": "stdout",
          "text": [
            "Downloading data from https://data.vision.ee.ethz.ch/cvl/rrothe/imdb-wiki/static/wiki_crop.tar\n",
            "811319296/811315200 [==============================] - 34s 0us/step\n",
            "811327488/811315200 [==============================] - 34s 0us/step\n"
          ]
        }
      ],
      "source": [
        "url = \"https://data.vision.ee.ethz.ch/cvl/rrothe/imdb-wiki/static/wiki_crop.tar\"\n",
        "\n",
        "dataset = tf.keras.utils.get_file(\n",
        "    \"wiki_crop\", url,\n",
        "    untar=True, cache_dir='.',\n",
        "    cache_subdir=''\n",
        ")\n",
        "dataset_dir = os.path.join(os.path.dirname(dataset), 'wiki_crop')"
      ]
    },
    {
      "cell_type": "code",
      "execution_count": null,
      "metadata": {
        "id": "W8FzNTFo0Crv"
      },
      "outputs": [],
      "source": [
        "import scipy.io\n",
        "import numpy as np"
      ]
    },
    {
      "cell_type": "code",
      "execution_count": null,
      "metadata": {
        "id": "rA2_g0KC0mqq",
        "colab": {
          "base_uri": "https://localhost:8080/"
        },
        "outputId": "b81e426d-5e5f-47c6-99b4-9000636d6ddb"
      },
      "outputs": [
        {
          "output_type": "execute_result",
          "data": {
            "text/plain": [
              "{'__globals__': [],\n",
              " '__header__': b'MATLAB 5.0 MAT-file, Platform: GLNXA64, Created on: Sat Jan 16 16:25:20 2016',\n",
              " '__version__': '1.0',\n",
              " 'wiki': array([[(array([[723671, 703186, 711677, ..., 720620, 723893, 713846]], dtype=int32), array([[2009, 1964, 2008, ..., 2013, 2011, 2008]], dtype=uint16), array([[array(['17/10000217_1981-05-05_2009.jpg'], dtype='<U31'),\n",
              "                 array(['48/10000548_1925-04-04_1964.jpg'], dtype='<U31'),\n",
              "                 array(['12/100012_1948-07-03_2008.jpg'], dtype='<U29'), ...,\n",
              "                 array(['09/9998109_1972-12-27_2013.jpg'], dtype='<U30'),\n",
              "                 array(['00/9999400_1981-12-13_2011.jpg'], dtype='<U30'),\n",
              "                 array(['80/999980_1954-06-11_2008.jpg'], dtype='<U29')]],\n",
              "               dtype=object), array([[1., 1., 1., ..., 1., 1., 0.]]), array([[array(['Sami Jauhojärvi'], dtype='<U15'),\n",
              "                 array(['Dettmar Cramer'], dtype='<U14'),\n",
              "                 array(['Marc Okrand'], dtype='<U11'), ...,\n",
              "                 array(['Michael Wiesinger'], dtype='<U17'),\n",
              "                 array(['Johann Grugger'], dtype='<U14'),\n",
              "                 array(['Greta Van Susteren'], dtype='<U18')]], dtype=object), array([[array([[111.29109473, 111.29109473, 252.66993082, 252.66993082]]),\n",
              "                 array([[252.4833023 , 126.68165115, 354.53192596, 228.73027481]]),\n",
              "                 array([[113.52, 169.84, 366.08, 422.4 ]]), ...,\n",
              "                 array([[169.88839786,  74.31669472, 235.2534231 , 139.68171997]]),\n",
              "                 array([[1, 1, 1, 1]], dtype=uint8),\n",
              "                 array([[ 92.72633235,  62.0435549 , 230.12083087, 199.43805342]])]],\n",
              "               dtype=object), array([[4.30096239, 2.6456395 , 4.32932883, ..., 3.49430317,       -inf,\n",
              "                 5.48691655]]), array([[       nan, 1.94924791,        nan, ...,        nan,        nan,\n",
              "                        nan]]))                                                                                                                                                                                           ]],\n",
              "       dtype=[('dob', 'O'), ('photo_taken', 'O'), ('full_path', 'O'), ('gender', 'O'), ('name', 'O'), ('face_location', 'O'), ('face_score', 'O'), ('second_face_score', 'O')])}"
            ]
          },
          "metadata": {},
          "execution_count": 4
        }
      ],
      "source": [
        "mat = scipy.io.loadmat(os.path.join(dataset_dir,'wiki.mat'))\n",
        "mat"
      ]
    },
    {
      "cell_type": "code",
      "execution_count": null,
      "metadata": {
        "id": "-s8WSGIo06HY",
        "colab": {
          "base_uri": "https://localhost:8080/"
        },
        "outputId": "9d6a9454-5e52-4c07-e26b-d565447273ba"
      },
      "outputs": [
        {
          "output_type": "execute_result",
          "data": {
            "text/plain": [
              "(62328,)"
            ]
          },
          "metadata": {},
          "execution_count": 5
        }
      ],
      "source": [
        "gender = mat[\"wiki\"][\"gender\"][0][0][0].astype(np.float32)\n",
        "gender.shape"
      ]
    },
    {
      "cell_type": "code",
      "execution_count": null,
      "metadata": {
        "id": "v2Ry9CPe1BqU"
      },
      "outputs": [],
      "source": [
        "file_path = np.vectorize(lambda x : os.path.join(dataset_dir,x[0]))(mat[\"wiki\"][\"full_path\"][0][0][0])\n",
        "\n",
        "# filtering out nan values\n",
        "file_path,gender = file_path[~np.isnan(gender)],gender[~np.isnan(gender)]\n",
        "\n",
        "file_gender_ds = tf.data.Dataset.from_tensor_slices((file_path,gender))"
      ]
    },
    {
      "cell_type": "code",
      "source": [
        "file_gender_ds.cardinality().numpy()"
      ],
      "metadata": {
        "id": "wDwQb2jjC4Hz",
        "colab": {
          "base_uri": "https://localhost:8080/"
        },
        "outputId": "6522e31f-9446-4883-991b-49e7c66d4866"
      },
      "execution_count": null,
      "outputs": [
        {
          "output_type": "execute_result",
          "data": {
            "text/plain": [
              "59685"
            ]
          },
          "metadata": {},
          "execution_count": 7
        }
      ]
    },
    {
      "cell_type": "code",
      "execution_count": null,
      "metadata": {
        "id": "aj-XlJg21WqL"
      },
      "outputs": [],
      "source": [
        "def parse_function(filename, label):\n",
        "    image_string = tf.io.read_file(filename)\n",
        "    image_decoded = tf.io.decode_jpeg(image_string,channels=1)\n",
        "    image = tf.image.resize(image_decoded, [128, 128])\n",
        "    return image, tf.expand_dims(label,0)"
      ]
    },
    {
      "cell_type": "code",
      "execution_count": null,
      "metadata": {
        "id": "rPNM2F_81eDK",
        "colab": {
          "base_uri": "https://localhost:8080/"
        },
        "outputId": "1af6596c-4629-4840-e709-ffbbed33f981"
      },
      "outputs": [
        {
          "output_type": "execute_result",
          "data": {
            "text/plain": [
              "<CacheDataset element_spec=(TensorSpec(shape=(128, 128, 1), dtype=tf.float32, name=None), TensorSpec(shape=(1,), dtype=tf.float32, name=None))>"
            ]
          },
          "metadata": {},
          "execution_count": 9
        }
      ],
      "source": [
        "image_gender_ds = file_gender_ds.map(parse_function).shuffle(seed=2,buffer_size=64).cache()\n",
        "dataset_size = image_gender_ds.cardinality().numpy()\n",
        "image_gender_ds"
      ]
    },
    {
      "cell_type": "code",
      "source": [
        "dataset_size"
      ],
      "metadata": {
        "id": "eKM5U8s0CLeu",
        "colab": {
          "base_uri": "https://localhost:8080/"
        },
        "outputId": "f0762bb8-26d1-43fe-d811-3ecacbd4656d"
      },
      "execution_count": null,
      "outputs": [
        {
          "output_type": "execute_result",
          "data": {
            "text/plain": [
              "59685"
            ]
          },
          "metadata": {},
          "execution_count": 10
        }
      ]
    },
    {
      "cell_type": "code",
      "execution_count": null,
      "metadata": {
        "id": "FbY7NRvD10yo"
      },
      "outputs": [],
      "source": [
        "AUTOTUNE = tf.data.AUTOTUNE\n",
        "train_ds = image_gender_ds.take(dataset_size*.6).batch(64).prefetch(AUTOTUNE)\n",
        "val_ds = image_gender_ds.skip(dataset_size*.6).take(dataset_size*.2).batch(64).prefetch(AUTOTUNE)\n",
        "test_ds = image_gender_ds.skip(dataset_size*.8).take(dataset_size*.2).batch(64).prefetch(AUTOTUNE)"
      ]
    },
    {
      "cell_type": "code",
      "execution_count": null,
      "metadata": {
        "id": "val9RpS_4I9P",
        "colab": {
          "base_uri": "https://localhost:8080/"
        },
        "outputId": "eaee1225-5f8f-481a-8081-88c587024b86"
      },
      "outputs": [
        {
          "output_type": "execute_result",
          "data": {
            "text/plain": [
              "<PrefetchDataset element_spec=(TensorSpec(shape=(None, 128, 128, 1), dtype=tf.float32, name=None), TensorSpec(shape=(None, 1), dtype=tf.float32, name=None))>"
            ]
          },
          "metadata": {},
          "execution_count": 12
        }
      ],
      "source": [
        "train_ds"
      ]
    },
    {
      "cell_type": "code",
      "execution_count": null,
      "metadata": {
        "id": "reX2F70I185g"
      },
      "outputs": [],
      "source": [
        "model = tf.keras.Sequential([\n",
        "    tf.keras.layers.Conv2D(32,(5,5),padding=\"same\",activation=\"relu\",input_shape=(128,128,1)),\n",
        "    tf.keras.layers.MaxPool2D((4,4),strides = 2),\n",
        "    tf.keras.layers.Conv2D(32,(5,5),padding = \"valid\",activation=\"relu\"),\n",
        "    tf.keras.layers.MaxPool2D((4,4),strides = 2),\n",
        "    tf.keras.layers.Conv2D(64,(5,5),padding = \"valid\",activation=\"relu\"),\n",
        "    tf.keras.layers.MaxPool2D((4,4),strides = 2),\n",
        "    tf.keras.layers.Conv2D(128,(3,3),padding= \"valid\",activation=\"relu\",),\n",
        "    tf.keras.layers.MaxPool2D((2,2),strides = 2),\n",
        "    tf.keras.layers.Conv2D(256,(1,1),padding= \"valid\",activation=\"relu\",),\n",
        "    tf.keras.layers.MaxPool2D((2,2),strides = 2),\n",
        "    tf.keras.layers.Flatten(),\n",
        "    tf.keras.layers.Dense(64,activation=\"relu\"),\n",
        "    tf.keras.layers.Dense(1)       \n",
        "])"
      ]
    },
    {
      "cell_type": "code",
      "execution_count": null,
      "metadata": {
        "id": "KNQE5Ssr2ZUN",
        "colab": {
          "base_uri": "https://localhost:8080/"
        },
        "outputId": "3408d7a5-b611-42ab-b554-f326c19d4e12"
      },
      "outputs": [
        {
          "output_type": "stream",
          "name": "stdout",
          "text": [
            "Model: \"sequential\"\n",
            "_________________________________________________________________\n",
            " Layer (type)                Output Shape              Param #   \n",
            "=================================================================\n",
            " conv2d (Conv2D)             (None, 128, 128, 32)      832       \n",
            "                                                                 \n",
            " max_pooling2d (MaxPooling2D  (None, 63, 63, 32)       0         \n",
            " )                                                               \n",
            "                                                                 \n",
            " conv2d_1 (Conv2D)           (None, 59, 59, 32)        25632     \n",
            "                                                                 \n",
            " max_pooling2d_1 (MaxPooling  (None, 28, 28, 32)       0         \n",
            " 2D)                                                             \n",
            "                                                                 \n",
            " conv2d_2 (Conv2D)           (None, 24, 24, 64)        51264     \n",
            "                                                                 \n",
            " max_pooling2d_2 (MaxPooling  (None, 11, 11, 64)       0         \n",
            " 2D)                                                             \n",
            "                                                                 \n",
            " conv2d_3 (Conv2D)           (None, 9, 9, 128)         73856     \n",
            "                                                                 \n",
            " max_pooling2d_3 (MaxPooling  (None, 4, 4, 128)        0         \n",
            " 2D)                                                             \n",
            "                                                                 \n",
            " conv2d_4 (Conv2D)           (None, 4, 4, 256)         33024     \n",
            "                                                                 \n",
            " max_pooling2d_4 (MaxPooling  (None, 2, 2, 256)        0         \n",
            " 2D)                                                             \n",
            "                                                                 \n",
            " flatten (Flatten)           (None, 1024)              0         \n",
            "                                                                 \n",
            " dense (Dense)               (None, 64)                65600     \n",
            "                                                                 \n",
            " dense_1 (Dense)             (None, 1)                 65        \n",
            "                                                                 \n",
            "=================================================================\n",
            "Total params: 250,273\n",
            "Trainable params: 250,273\n",
            "Non-trainable params: 0\n",
            "_________________________________________________________________\n"
          ]
        }
      ],
      "source": [
        "model.summary()"
      ]
    },
    {
      "cell_type": "code",
      "execution_count": null,
      "metadata": {
        "id": "wH1dqFvh3Ojq"
      },
      "outputs": [],
      "source": [
        "Adam = tf.keras.optimizers.Adam(learning_rate=0.001)\n",
        "model.compile(optimizer=Adam, loss=tf.keras.losses.BinaryCrossentropy(from_logits=True), metrics=[\"accuracy\"])"
      ]
    },
    {
      "cell_type": "code",
      "execution_count": null,
      "metadata": {
        "colab": {
          "base_uri": "https://localhost:8080/"
        },
        "id": "blrLisXe3qSO",
        "outputId": "804acaf4-aaed-42bf-e5f7-c352ba3da973"
      },
      "outputs": [
        {
          "output_type": "stream",
          "name": "stdout",
          "text": [
            "Epoch 1/10\n",
            "560/560 [==============================] - 59s 83ms/step - loss: 0.5109 - accuracy: 0.7729 - val_loss: 0.4551 - val_accuracy: 0.8140\n",
            "Epoch 2/10\n",
            "560/560 [==============================] - 46s 82ms/step - loss: 0.4256 - accuracy: 0.8132 - val_loss: 0.4160 - val_accuracy: 0.7871\n",
            "Epoch 3/10\n",
            "560/560 [==============================] - 44s 79ms/step - loss: 0.3741 - accuracy: 0.8475 - val_loss: 0.3623 - val_accuracy: 0.8530\n",
            "Epoch 4/10\n",
            "560/560 [==============================] - 45s 80ms/step - loss: 0.3385 - accuracy: 0.8672 - val_loss: 0.3339 - val_accuracy: 0.8733\n",
            "Epoch 5/10\n",
            "560/560 [==============================] - 45s 80ms/step - loss: 0.3182 - accuracy: 0.8762 - val_loss: 0.3481 - val_accuracy: 0.8752\n",
            "Epoch 6/10\n",
            "560/560 [==============================] - 44s 79ms/step - loss: 0.3068 - accuracy: 0.8813 - val_loss: 0.3243 - val_accuracy: 0.8786\n",
            "Epoch 7/10\n",
            "560/560 [==============================] - 44s 79ms/step - loss: 0.3000 - accuracy: 0.8835 - val_loss: 0.3537 - val_accuracy: 0.8705\n",
            "Epoch 8/10\n",
            "560/560 [==============================] - 45s 80ms/step - loss: 0.2925 - accuracy: 0.8888 - val_loss: 0.3339 - val_accuracy: 0.8781\n",
            "Epoch 9/10\n",
            "560/560 [==============================] - 44s 79ms/step - loss: 0.2831 - accuracy: 0.8915 - val_loss: 0.3514 - val_accuracy: 0.8787\n",
            "Epoch 10/10\n",
            "560/560 [==============================] - 45s 80ms/step - loss: 0.2789 - accuracy: 0.8918 - val_loss: 0.3384 - val_accuracy: 0.8761\n"
          ]
        }
      ],
      "source": [
        "history = model.fit(train_ds,validation_data=val_ds,epochs=10)"
      ]
    },
    {
      "cell_type": "code",
      "source": [
        "import matplotlib.pyplot as plt"
      ],
      "metadata": {
        "id": "9b6bfWXMBw4m"
      },
      "execution_count": null,
      "outputs": []
    },
    {
      "cell_type": "code",
      "execution_count": null,
      "metadata": {
        "id": "-ObD47mr7F1Z"
      },
      "outputs": [],
      "source": [
        "def plot_graphs(history, metric):\n",
        "  plt.plot(history.history[metric])\n",
        "  plt.plot(history.history['val_'+metric], '')\n",
        "  plt.xlabel(\"Epochs\")\n",
        "  plt.ylabel(metric)\n",
        "  plt.legend([metric, 'val_'+metric])"
      ]
    },
    {
      "cell_type": "code",
      "source": [
        "plt.figure(figsize=(10, 5))\n",
        "plt.subplot(1, 2, 1)\n",
        "plot_graphs(history, 'accuracy')\n",
        "plt.ylim(None, 1)\n",
        "plt.subplot(1, 2, 2)\n",
        "plot_graphs(history, 'loss')\n",
        "plt.ylim(0, None)\n",
        "plt.show()"
      ],
      "metadata": {
        "id": "izbg2ZyQBv7Z",
        "colab": {
          "base_uri": "https://localhost:8080/",
          "height": 338
        },
        "outputId": "b8d70610-4736-413a-dc3a-772adaa9e67a"
      },
      "execution_count": null,
      "outputs": [
        {
          "output_type": "display_data",
          "data": {
            "text/plain": [
              "<Figure size 720x360 with 2 Axes>"
            ],
            "image/png": "[encoded data removed]"
          },
          "metadata": {
            "needs_background": "light"
          }
        }
      ]
    },
    {
      "cell_type": "code",
      "source": [
        "loss, accuracy = model.evaluate(test_ds)\n",
        "\n",
        "print(\"Loss: \", loss)\n",
        "print(\"Accuracy: \", accuracy)"
      ],
      "metadata": {
        "id": "0ndku9EPB8_P",
        "colab": {
          "base_uri": "https://localhost:8080/"
        },
        "outputId": "47655a63-7b42-49cf-964c-f07cfffd493d"
      },
      "execution_count": null,
      "outputs": [
        {
          "output_type": "stream",
          "name": "stdout",
          "text": [
            "187/187 [==============================] - 39s 42ms/step - loss: 0.3424 - accuracy: 0.8740\n",
            "Loss:  0.3423534333705902\n",
            "Accuracy:  0.8740051984786987\n"
          ]
        }
      ]
    }
  ],
  "metadata": {
    "accelerator": "GPU",
    "colab": {
      "collapsed_sections": [],
      "name": "gender_classification.ipynb",
      "provenance": [],
      "include_colab_link": true
    },
    "kernelspec": {
      "display_name": "Python 3",
      "name": "python3"
    },
    "language_info": {
      "name": "python"
    }
  },
  "nbformat": 4,
  "nbformat_minor": 0
}